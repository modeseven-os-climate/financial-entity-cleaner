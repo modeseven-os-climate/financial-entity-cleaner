{
 "cells": [
  {
   "cell_type": "markdown",
   "id": "d289f0cd",
   "metadata": {},
   "source": [
    "# How to...normalize country information"
   ]
  },
  {
   "cell_type": "markdown",
   "id": "56658098",
   "metadata": {},
   "source": [
    "This notebook shows how to use the entitymatching api to normalize information about countries."
   ]
  },
  {
   "cell_type": "code",
   "execution_count": 1,
   "id": "a2071535",
   "metadata": {},
   "outputs": [],
   "source": [
    "# Sets up the location of the api relative to this notebook \n",
    "import sys\n",
    "sys.path.append('../../')"
   ]
  },
  {
   "cell_type": "code",
   "execution_count": 2,
   "id": "24169860",
   "metadata": {},
   "outputs": [],
   "source": [
    "# Import the module for normalizing country information\n",
    "from financial_entity_cleaner.country_cleaner import country"
   ]
  },
  {
   "cell_type": "markdown",
   "id": "e9221cbb",
   "metadata": {},
   "source": [
    "## 1. Basic usage"
   ]
  },
  {
   "cell_type": "markdown",
   "id": "536cf468",
   "metadata": {},
   "source": [
    "The API allows to get full information about a country (alpha2, alpha3 and name) by passing one of these data to the get_country_info() method. The result of the search can be None (country not found) or a dictionary."
   ]
  },
  {
   "cell_type": "code",
   "execution_count": 3,
   "id": "b53dd8b8",
   "metadata": {},
   "outputs": [],
   "source": [
    "# Create a CountryCleaner object\n",
    "country_cleaner_obj=country.CountryCleaner()"
   ]
  },
  {
   "cell_type": "code",
   "execution_count": 4,
   "id": "e90a13dd",
   "metadata": {},
   "outputs": [],
   "source": [
    "# Good examples of country information that can be found in data sources\n",
    "country_alpha2 = 'PT'\n",
    "country_alpha3 = 'BRA'\n",
    "country_name = ' China '"
   ]
  },
  {
   "cell_type": "code",
   "execution_count": 5,
   "id": "c657ec4a",
   "metadata": {},
   "outputs": [
    {
     "name": "stdout",
     "output_type": "stream",
     "text": [
      "Complete country information: {'country_name_clean': 'portugal', 'country_alpha2_clean': 'pt', 'country_alpha3_clean': 'prt'}\n"
     ]
    }
   ],
   "source": [
    "# Get the complete information about a country given and alpha2 code\n",
    "country_info_dict = country_cleaner_obj.get_country_info(country_alpha2)\n",
    "print('Complete country information: {}'.format(country_info_dict))"
   ]
  },
  {
   "cell_type": "code",
   "execution_count": 6,
   "id": "66cea879",
   "metadata": {},
   "outputs": [
    {
     "name": "stdout",
     "output_type": "stream",
     "text": [
      "Complete country information: {'country_name_clean': 'brazil', 'country_alpha2_clean': 'br', 'country_alpha3_clean': 'bra'}\n"
     ]
    }
   ],
   "source": [
    "# Get the complete information about a country given alpha3 code\n",
    "country_info_dict = country_cleaner_obj.get_country_info(country_alpha3)\n",
    "print('Complete country information: {}'.format(country_info_dict))"
   ]
  },
  {
   "cell_type": "code",
   "execution_count": 7,
   "id": "7805caf2",
   "metadata": {},
   "outputs": [
    {
     "name": "stdout",
     "output_type": "stream",
     "text": [
      "Complete country information: {'country_name_clean': 'china', 'country_alpha2_clean': 'cn', 'country_alpha3_clean': 'chn'}\n"
     ]
    }
   ],
   "source": [
    "# Get the complete information about a country given a name\n",
    "country_info_dict = country_cleaner_obj.get_country_info(country_name)\n",
    "print('Complete country information: {}'.format(country_info_dict))"
   ]
  },
  {
   "cell_type": "markdown",
   "id": "4c8a7fb2",
   "metadata": {},
   "source": [
    "## 2. Some bad examples (country not found)"
   ]
  },
  {
   "cell_type": "markdown",
   "id": "35edf15b",
   "metadata": {},
   "source": [
    "The API performs an exact matching between the value passed by parameter and its internal dictionary of country information. Therefore, if the information contains strange characters or the name is not a country's name, the API will return a None object."
   ]
  },
  {
   "cell_type": "code",
   "execution_count": 8,
   "id": "def61a9e",
   "metadata": {},
   "outputs": [],
   "source": [
    "# Bad examples of country information that can be found in data sources\n",
    "country_alpha2 = '123'\n",
    "country_alpha3 = '%fff'\n",
    "country_name = ' Chinatown '"
   ]
  },
  {
   "cell_type": "code",
   "execution_count": 9,
   "id": "e3035da6",
   "metadata": {},
   "outputs": [
    {
     "name": "stdout",
     "output_type": "stream",
     "text": [
      "{'country_name_clean': nan, 'country_alpha2_clean': nan, 'country_alpha3_clean': nan}\n"
     ]
    }
   ],
   "source": [
    "# Get the complete information about a country given and alpha2 code\n",
    "print(country_cleaner_obj.get_country_info(country_alpha2))"
   ]
  },
  {
   "cell_type": "code",
   "execution_count": 10,
   "id": "3a57a1df",
   "metadata": {},
   "outputs": [
    {
     "name": "stdout",
     "output_type": "stream",
     "text": [
      "{'country_name_clean': nan, 'country_alpha2_clean': nan, 'country_alpha3_clean': nan}\n"
     ]
    }
   ],
   "source": [
    "# Get the complete information about a country given alpha3 code\n",
    "print(country_cleaner_obj.get_country_info(country_alpha3))"
   ]
  },
  {
   "cell_type": "code",
   "execution_count": 11,
   "id": "b045d29e",
   "metadata": {},
   "outputs": [
    {
     "name": "stdout",
     "output_type": "stream",
     "text": [
      "{'country_name_clean': nan, 'country_alpha2_clean': nan, 'country_alpha3_clean': nan}\n"
     ]
    }
   ],
   "source": [
    "# Get the complete information about a country given a name\n",
    "print(country_cleaner_obj.get_country_info(country_name))"
   ]
  },
  {
   "cell_type": "markdown",
   "id": "563ab5e1",
   "metadata": {},
   "source": [
    "## 3. Customizing the output letter case"
   ]
  },
  {
   "cell_type": "markdown",
   "id": "11ec8227",
   "metadata": {},
   "source": [
    "It is possible to indicate in the output_lettercase parameter of the API that the result must be in lower, upper or title case. By default, the API uses output_lettercase='lower'."
   ]
  },
  {
   "cell_type": "code",
   "execution_count": 12,
   "id": "a5c7ed79",
   "metadata": {},
   "outputs": [],
   "source": [
    "# Good examples of country information that can be found in data sources\n",
    "country_alpha2 = 'no'\n",
    "country_alpha3 = 'rus'\n",
    "country_name = 'United kingdom'"
   ]
  },
  {
   "cell_type": "code",
   "execution_count": 13,
   "id": "74759e72",
   "metadata": {},
   "outputs": [],
   "source": [
    "# Set up the resultant letter case\n",
    "country_cleaner_obj.output_lettercase='upper'"
   ]
  },
  {
   "cell_type": "code",
   "execution_count": 14,
   "id": "70c0d64a",
   "metadata": {},
   "outputs": [
    {
     "name": "stdout",
     "output_type": "stream",
     "text": [
      "Complete country information: {'country_name_clean': 'united kingdom of great britain and northern ireland', 'country_alpha2_clean': 'gb', 'country_alpha3_clean': 'gbr'}\n"
     ]
    }
   ],
   "source": [
    "# Get the complete information about a country given and alpha2 code\n",
    "country_info_dict = country_cleaner_obj.get_country_info(country_name)\n",
    "print('Complete country information: {}'.format(country_info_dict))"
   ]
  },
  {
   "cell_type": "code",
   "execution_count": 15,
   "id": "42ef65b1",
   "metadata": {},
   "outputs": [],
   "source": [
    "# Set up the resultant letter case\n",
    "country_cleaner_obj.output_lettercase='title'"
   ]
  },
  {
   "cell_type": "code",
   "execution_count": 16,
   "id": "40d50f80",
   "metadata": {},
   "outputs": [
    {
     "name": "stdout",
     "output_type": "stream",
     "text": [
      "Complete country information: {'country_name_clean': 'norway', 'country_alpha2_clean': 'no', 'country_alpha3_clean': 'nor'}\n"
     ]
    }
   ],
   "source": [
    "# Get the complete information about a country given and alpha2 code\n",
    "country_info_dict = country_cleaner_obj.get_country_info(country_alpha2)\n",
    "print('Complete country information: {}'.format(country_info_dict))"
   ]
  },
  {
   "cell_type": "markdown",
   "id": "834bdd5e",
   "metadata": {},
   "source": [
    "## 4. Cleaning a dataframe"
   ]
  },
  {
   "cell_type": "code",
   "execution_count": 17,
   "id": "de85661a",
   "metadata": {},
   "outputs": [],
   "source": [
    "import pandas as pd"
   ]
  },
  {
   "cell_type": "code",
   "execution_count": 18,
   "id": "674582f9",
   "metadata": {},
   "outputs": [],
   "source": [
    "input_filename = '../../tests/data/test_cleaner_country.csv'"
   ]
  },
  {
   "cell_type": "code",
   "execution_count": 19,
   "id": "5242c047",
   "metadata": {},
   "outputs": [],
   "source": [
    "df_original = pd.read_csv(input_filename,sep=',',encoding='utf-8')"
   ]
  },
  {
   "cell_type": "code",
   "execution_count": 20,
   "id": "ad012ce7",
   "metadata": {},
   "outputs": [
    {
     "data": {
      "text/html": [
       "<div>\n",
       "<style scoped>\n",
       "    .dataframe tbody tr th:only-of-type {\n",
       "        vertical-align: middle;\n",
       "    }\n",
       "\n",
       "    .dataframe tbody tr th {\n",
       "        vertical-align: top;\n",
       "    }\n",
       "\n",
       "    .dataframe thead th {\n",
       "        text-align: right;\n",
       "    }\n",
       "</style>\n",
       "<table border=\"1\" class=\"dataframe\">\n",
       "  <thead>\n",
       "    <tr style=\"text-align: right;\">\n",
       "      <th></th>\n",
       "      <th>COUNTRY</th>\n",
       "      <th>ALPHA2</th>\n",
       "      <th>ALPHA3</th>\n",
       "      <th>NAME</th>\n",
       "    </tr>\n",
       "  </thead>\n",
       "  <tbody>\n",
       "    <tr>\n",
       "      <th>0</th>\n",
       "      <td>NC</td>\n",
       "      <td>nc</td>\n",
       "      <td>ncl</td>\n",
       "      <td>new caledonia</td>\n",
       "    </tr>\n",
       "    <tr>\n",
       "      <th>1</th>\n",
       "      <td>Fr</td>\n",
       "      <td>fr</td>\n",
       "      <td>fra</td>\n",
       "      <td>france</td>\n",
       "    </tr>\n",
       "    <tr>\n",
       "      <th>2</th>\n",
       "      <td>CA</td>\n",
       "      <td>ca</td>\n",
       "      <td>can</td>\n",
       "      <td>canada</td>\n",
       "    </tr>\n",
       "    <tr>\n",
       "      <th>3</th>\n",
       "      <td>IT</td>\n",
       "      <td>it</td>\n",
       "      <td>ita</td>\n",
       "      <td>italy</td>\n",
       "    </tr>\n",
       "    <tr>\n",
       "      <th>4</th>\n",
       "      <td>es</td>\n",
       "      <td>es</td>\n",
       "      <td>esp</td>\n",
       "      <td>spain</td>\n",
       "    </tr>\n",
       "    <tr>\n",
       "      <th>5</th>\n",
       "      <td>ZZ</td>\n",
       "      <td>None</td>\n",
       "      <td>None</td>\n",
       "      <td>None</td>\n",
       "    </tr>\n",
       "    <tr>\n",
       "      <th>6</th>\n",
       "      <td>XZ</td>\n",
       "      <td>None</td>\n",
       "      <td>None</td>\n",
       "      <td>None</td>\n",
       "    </tr>\n",
       "    <tr>\n",
       "      <th>7</th>\n",
       "      <td>usa</td>\n",
       "      <td>us</td>\n",
       "      <td>usa</td>\n",
       "      <td>united states of america</td>\n",
       "    </tr>\n",
       "    <tr>\n",
       "      <th>8</th>\n",
       "      <td>Arg</td>\n",
       "      <td>ar</td>\n",
       "      <td>arg</td>\n",
       "      <td>argentina</td>\n",
       "    </tr>\n",
       "    <tr>\n",
       "      <th>9</th>\n",
       "      <td>AUS</td>\n",
       "      <td>au</td>\n",
       "      <td>aus</td>\n",
       "      <td>australia</td>\n",
       "    </tr>\n",
       "    <tr>\n",
       "      <th>10</th>\n",
       "      <td>ZZZ</td>\n",
       "      <td>None</td>\n",
       "      <td>None</td>\n",
       "      <td>None</td>\n",
       "    </tr>\n",
       "    <tr>\n",
       "      <th>11</th>\n",
       "      <td>can</td>\n",
       "      <td>ca</td>\n",
       "      <td>can</td>\n",
       "      <td>canada</td>\n",
       "    </tr>\n",
       "    <tr>\n",
       "      <th>12</th>\n",
       "      <td>DNK</td>\n",
       "      <td>dk</td>\n",
       "      <td>dnk</td>\n",
       "      <td>denmark</td>\n",
       "    </tr>\n",
       "    <tr>\n",
       "      <th>13</th>\n",
       "      <td>United States of America</td>\n",
       "      <td>us</td>\n",
       "      <td>usa</td>\n",
       "      <td>united states of america</td>\n",
       "    </tr>\n",
       "    <tr>\n",
       "      <th>14</th>\n",
       "      <td>GERMANY</td>\n",
       "      <td>de</td>\n",
       "      <td>deu</td>\n",
       "      <td>germany</td>\n",
       "    </tr>\n",
       "    <tr>\n",
       "      <th>15</th>\n",
       "      <td>belgium</td>\n",
       "      <td>be</td>\n",
       "      <td>bel</td>\n",
       "      <td>belgium</td>\n",
       "    </tr>\n",
       "    <tr>\n",
       "      <th>16</th>\n",
       "      <td>WAKANDA</td>\n",
       "      <td>None</td>\n",
       "      <td>None</td>\n",
       "      <td>None</td>\n",
       "    </tr>\n",
       "    <tr>\n",
       "      <th>17</th>\n",
       "      <td>Portugal</td>\n",
       "      <td>pt</td>\n",
       "      <td>prt</td>\n",
       "      <td>portugal</td>\n",
       "    </tr>\n",
       "  </tbody>\n",
       "</table>\n",
       "</div>"
      ],
      "text/plain": [
       "                     COUNTRY ALPHA2 ALPHA3                      NAME\n",
       "0                         NC     nc    ncl             new caledonia\n",
       "1                         Fr     fr    fra                    france\n",
       "2                         CA     ca    can                    canada\n",
       "3                         IT     it    ita                     italy\n",
       "4                         es     es    esp                     spain\n",
       "5                         ZZ   None   None                      None\n",
       "6                         XZ   None   None                      None\n",
       "7                        usa     us    usa  united states of america\n",
       "8                        Arg     ar    arg                 argentina\n",
       "9                        AUS     au    aus                 australia\n",
       "10                       ZZZ   None   None                      None\n",
       "11                       can     ca    can                    canada\n",
       "12                       DNK     dk    dnk                   denmark\n",
       "13  United States of America     us    usa  united states of america\n",
       "14                   GERMANY     de    deu                   germany\n",
       "15                   belgium     be    bel                   belgium\n",
       "16                   WAKANDA   None   None                      None\n",
       "17                  Portugal     pt    prt                  portugal"
      ]
     },
     "execution_count": 20,
     "metadata": {},
     "output_type": "execute_result"
    }
   ],
   "source": [
    "df_original"
   ]
  },
  {
   "cell_type": "code",
   "execution_count": 21,
   "id": "21dfdae6",
   "metadata": {},
   "outputs": [],
   "source": [
    "# Set up the resultant letter case\n",
    "country_cleaner_obj.output_lettercase='lower'"
   ]
  },
  {
   "cell_type": "code",
   "execution_count": 22,
   "id": "d374d432",
   "metadata": {},
   "outputs": [],
   "source": [
    "df_cleaner = country_cleaner_obj.apply_cleaner_to_df(df_original, 'COUNTRY')"
   ]
  },
  {
   "cell_type": "code",
   "execution_count": 23,
   "id": "69215445",
   "metadata": {},
   "outputs": [
    {
     "data": {
      "text/html": [
       "<div>\n",
       "<style scoped>\n",
       "    .dataframe tbody tr th:only-of-type {\n",
       "        vertical-align: middle;\n",
       "    }\n",
       "\n",
       "    .dataframe tbody tr th {\n",
       "        vertical-align: top;\n",
       "    }\n",
       "\n",
       "    .dataframe thead th {\n",
       "        text-align: right;\n",
       "    }\n",
       "</style>\n",
       "<table border=\"1\" class=\"dataframe\">\n",
       "  <thead>\n",
       "    <tr style=\"text-align: right;\">\n",
       "      <th></th>\n",
       "      <th>COUNTRY</th>\n",
       "      <th>ALPHA2</th>\n",
       "      <th>ALPHA3</th>\n",
       "      <th>NAME</th>\n",
       "      <th>country_name_clean</th>\n",
       "      <th>country_alpha2_clean</th>\n",
       "      <th>country_alpha3_clean</th>\n",
       "    </tr>\n",
       "  </thead>\n",
       "  <tbody>\n",
       "    <tr>\n",
       "      <th>0</th>\n",
       "      <td>NC</td>\n",
       "      <td>nc</td>\n",
       "      <td>ncl</td>\n",
       "      <td>new caledonia</td>\n",
       "      <td>new caledonia</td>\n",
       "      <td>nc</td>\n",
       "      <td>ncl</td>\n",
       "    </tr>\n",
       "    <tr>\n",
       "      <th>1</th>\n",
       "      <td>Fr</td>\n",
       "      <td>fr</td>\n",
       "      <td>fra</td>\n",
       "      <td>france</td>\n",
       "      <td>france</td>\n",
       "      <td>fr</td>\n",
       "      <td>fra</td>\n",
       "    </tr>\n",
       "    <tr>\n",
       "      <th>2</th>\n",
       "      <td>CA</td>\n",
       "      <td>ca</td>\n",
       "      <td>can</td>\n",
       "      <td>canada</td>\n",
       "      <td>canada</td>\n",
       "      <td>ca</td>\n",
       "      <td>can</td>\n",
       "    </tr>\n",
       "    <tr>\n",
       "      <th>3</th>\n",
       "      <td>IT</td>\n",
       "      <td>it</td>\n",
       "      <td>ita</td>\n",
       "      <td>italy</td>\n",
       "      <td>italy</td>\n",
       "      <td>it</td>\n",
       "      <td>ita</td>\n",
       "    </tr>\n",
       "    <tr>\n",
       "      <th>4</th>\n",
       "      <td>es</td>\n",
       "      <td>es</td>\n",
       "      <td>esp</td>\n",
       "      <td>spain</td>\n",
       "      <td>spain</td>\n",
       "      <td>es</td>\n",
       "      <td>esp</td>\n",
       "    </tr>\n",
       "    <tr>\n",
       "      <th>5</th>\n",
       "      <td>ZZ</td>\n",
       "      <td>None</td>\n",
       "      <td>None</td>\n",
       "      <td>None</td>\n",
       "      <td>NaN</td>\n",
       "      <td>NaN</td>\n",
       "      <td>NaN</td>\n",
       "    </tr>\n",
       "    <tr>\n",
       "      <th>6</th>\n",
       "      <td>XZ</td>\n",
       "      <td>None</td>\n",
       "      <td>None</td>\n",
       "      <td>None</td>\n",
       "      <td>NaN</td>\n",
       "      <td>NaN</td>\n",
       "      <td>NaN</td>\n",
       "    </tr>\n",
       "    <tr>\n",
       "      <th>7</th>\n",
       "      <td>usa</td>\n",
       "      <td>us</td>\n",
       "      <td>usa</td>\n",
       "      <td>united states of america</td>\n",
       "      <td>united states of america</td>\n",
       "      <td>us</td>\n",
       "      <td>usa</td>\n",
       "    </tr>\n",
       "    <tr>\n",
       "      <th>8</th>\n",
       "      <td>Arg</td>\n",
       "      <td>ar</td>\n",
       "      <td>arg</td>\n",
       "      <td>argentina</td>\n",
       "      <td>argentina</td>\n",
       "      <td>ar</td>\n",
       "      <td>arg</td>\n",
       "    </tr>\n",
       "    <tr>\n",
       "      <th>9</th>\n",
       "      <td>AUS</td>\n",
       "      <td>au</td>\n",
       "      <td>aus</td>\n",
       "      <td>australia</td>\n",
       "      <td>australia</td>\n",
       "      <td>au</td>\n",
       "      <td>aus</td>\n",
       "    </tr>\n",
       "    <tr>\n",
       "      <th>10</th>\n",
       "      <td>ZZZ</td>\n",
       "      <td>None</td>\n",
       "      <td>None</td>\n",
       "      <td>None</td>\n",
       "      <td>NaN</td>\n",
       "      <td>NaN</td>\n",
       "      <td>NaN</td>\n",
       "    </tr>\n",
       "    <tr>\n",
       "      <th>11</th>\n",
       "      <td>can</td>\n",
       "      <td>ca</td>\n",
       "      <td>can</td>\n",
       "      <td>canada</td>\n",
       "      <td>canada</td>\n",
       "      <td>ca</td>\n",
       "      <td>can</td>\n",
       "    </tr>\n",
       "    <tr>\n",
       "      <th>12</th>\n",
       "      <td>DNK</td>\n",
       "      <td>dk</td>\n",
       "      <td>dnk</td>\n",
       "      <td>denmark</td>\n",
       "      <td>denmark</td>\n",
       "      <td>dk</td>\n",
       "      <td>dnk</td>\n",
       "    </tr>\n",
       "    <tr>\n",
       "      <th>13</th>\n",
       "      <td>United States of America</td>\n",
       "      <td>us</td>\n",
       "      <td>usa</td>\n",
       "      <td>united states of america</td>\n",
       "      <td>united states of america</td>\n",
       "      <td>us</td>\n",
       "      <td>usa</td>\n",
       "    </tr>\n",
       "    <tr>\n",
       "      <th>14</th>\n",
       "      <td>GERMANY</td>\n",
       "      <td>de</td>\n",
       "      <td>deu</td>\n",
       "      <td>germany</td>\n",
       "      <td>germany</td>\n",
       "      <td>de</td>\n",
       "      <td>deu</td>\n",
       "    </tr>\n",
       "    <tr>\n",
       "      <th>15</th>\n",
       "      <td>belgium</td>\n",
       "      <td>be</td>\n",
       "      <td>bel</td>\n",
       "      <td>belgium</td>\n",
       "      <td>belgium</td>\n",
       "      <td>be</td>\n",
       "      <td>bel</td>\n",
       "    </tr>\n",
       "    <tr>\n",
       "      <th>16</th>\n",
       "      <td>WAKANDA</td>\n",
       "      <td>None</td>\n",
       "      <td>None</td>\n",
       "      <td>None</td>\n",
       "      <td>NaN</td>\n",
       "      <td>NaN</td>\n",
       "      <td>NaN</td>\n",
       "    </tr>\n",
       "    <tr>\n",
       "      <th>17</th>\n",
       "      <td>Portugal</td>\n",
       "      <td>pt</td>\n",
       "      <td>prt</td>\n",
       "      <td>portugal</td>\n",
       "      <td>portugal</td>\n",
       "      <td>pt</td>\n",
       "      <td>prt</td>\n",
       "    </tr>\n",
       "  </tbody>\n",
       "</table>\n",
       "</div>"
      ],
      "text/plain": [
       "                     COUNTRY ALPHA2 ALPHA3                      NAME  \\\n",
       "0                         NC     nc    ncl             new caledonia   \n",
       "1                         Fr     fr    fra                    france   \n",
       "2                         CA     ca    can                    canada   \n",
       "3                         IT     it    ita                     italy   \n",
       "4                         es     es    esp                     spain   \n",
       "5                         ZZ   None   None                      None   \n",
       "6                         XZ   None   None                      None   \n",
       "7                        usa     us    usa  united states of america   \n",
       "8                        Arg     ar    arg                 argentina   \n",
       "9                        AUS     au    aus                 australia   \n",
       "10                       ZZZ   None   None                      None   \n",
       "11                       can     ca    can                    canada   \n",
       "12                       DNK     dk    dnk                   denmark   \n",
       "13  United States of America     us    usa  united states of america   \n",
       "14                   GERMANY     de    deu                   germany   \n",
       "15                   belgium     be    bel                   belgium   \n",
       "16                   WAKANDA   None   None                      None   \n",
       "17                  Portugal     pt    prt                  portugal   \n",
       "\n",
       "          country_name_clean country_alpha2_clean country_alpha3_clean  \n",
       "0              new caledonia                   nc                  ncl  \n",
       "1                     france                   fr                  fra  \n",
       "2                     canada                   ca                  can  \n",
       "3                      italy                   it                  ita  \n",
       "4                      spain                   es                  esp  \n",
       "5                        NaN                  NaN                  NaN  \n",
       "6                        NaN                  NaN                  NaN  \n",
       "7   united states of america                   us                  usa  \n",
       "8                  argentina                   ar                  arg  \n",
       "9                  australia                   au                  aus  \n",
       "10                       NaN                  NaN                  NaN  \n",
       "11                    canada                   ca                  can  \n",
       "12                   denmark                   dk                  dnk  \n",
       "13  united states of america                   us                  usa  \n",
       "14                   germany                   de                  deu  \n",
       "15                   belgium                   be                  bel  \n",
       "16                       NaN                  NaN                  NaN  \n",
       "17                  portugal                   pt                  prt  "
      ]
     },
     "execution_count": 23,
     "metadata": {},
     "output_type": "execute_result"
    }
   ],
   "source": [
    "df_cleaner"
   ]
  },
  {
   "cell_type": "code",
   "execution_count": 24,
   "id": "9caa9a9a",
   "metadata": {},
   "outputs": [],
   "source": [
    "# Naming the output columns\n",
    "country_cleaner_obj.country_name_output = 'CLEAN_COUNTRY_NAME'\n",
    "country_cleaner_obj.country_alpha2_output = 'CLEAN_ALPHA2'\n",
    "country_cleaner_obj.country_alpha3_output = 'CLEAN_ALPHA3'"
   ]
  },
  {
   "cell_type": "code",
   "execution_count": 25,
   "id": "eff6c6e9",
   "metadata": {},
   "outputs": [],
   "source": [
    "df_cleaner = country_cleaner_obj.apply_cleaner_to_df(df_original, 'COUNTRY')"
   ]
  },
  {
   "cell_type": "code",
   "execution_count": 26,
   "id": "51426a49",
   "metadata": {},
   "outputs": [
    {
     "data": {
      "text/html": [
       "<div>\n",
       "<style scoped>\n",
       "    .dataframe tbody tr th:only-of-type {\n",
       "        vertical-align: middle;\n",
       "    }\n",
       "\n",
       "    .dataframe tbody tr th {\n",
       "        vertical-align: top;\n",
       "    }\n",
       "\n",
       "    .dataframe thead th {\n",
       "        text-align: right;\n",
       "    }\n",
       "</style>\n",
       "<table border=\"1\" class=\"dataframe\">\n",
       "  <thead>\n",
       "    <tr style=\"text-align: right;\">\n",
       "      <th></th>\n",
       "      <th>COUNTRY</th>\n",
       "      <th>ALPHA2</th>\n",
       "      <th>ALPHA3</th>\n",
       "      <th>NAME</th>\n",
       "      <th>CLEAN_COUNTRY_NAME</th>\n",
       "      <th>CLEAN_ALPHA2</th>\n",
       "      <th>CLEAN_ALPHA3</th>\n",
       "    </tr>\n",
       "  </thead>\n",
       "  <tbody>\n",
       "    <tr>\n",
       "      <th>0</th>\n",
       "      <td>NC</td>\n",
       "      <td>nc</td>\n",
       "      <td>ncl</td>\n",
       "      <td>new caledonia</td>\n",
       "      <td>new caledonia</td>\n",
       "      <td>nc</td>\n",
       "      <td>ncl</td>\n",
       "    </tr>\n",
       "    <tr>\n",
       "      <th>1</th>\n",
       "      <td>Fr</td>\n",
       "      <td>fr</td>\n",
       "      <td>fra</td>\n",
       "      <td>france</td>\n",
       "      <td>france</td>\n",
       "      <td>fr</td>\n",
       "      <td>fra</td>\n",
       "    </tr>\n",
       "    <tr>\n",
       "      <th>2</th>\n",
       "      <td>CA</td>\n",
       "      <td>ca</td>\n",
       "      <td>can</td>\n",
       "      <td>canada</td>\n",
       "      <td>canada</td>\n",
       "      <td>ca</td>\n",
       "      <td>can</td>\n",
       "    </tr>\n",
       "    <tr>\n",
       "      <th>3</th>\n",
       "      <td>IT</td>\n",
       "      <td>it</td>\n",
       "      <td>ita</td>\n",
       "      <td>italy</td>\n",
       "      <td>italy</td>\n",
       "      <td>it</td>\n",
       "      <td>ita</td>\n",
       "    </tr>\n",
       "    <tr>\n",
       "      <th>4</th>\n",
       "      <td>es</td>\n",
       "      <td>es</td>\n",
       "      <td>esp</td>\n",
       "      <td>spain</td>\n",
       "      <td>spain</td>\n",
       "      <td>es</td>\n",
       "      <td>esp</td>\n",
       "    </tr>\n",
       "    <tr>\n",
       "      <th>5</th>\n",
       "      <td>ZZ</td>\n",
       "      <td>None</td>\n",
       "      <td>None</td>\n",
       "      <td>None</td>\n",
       "      <td>NaN</td>\n",
       "      <td>NaN</td>\n",
       "      <td>NaN</td>\n",
       "    </tr>\n",
       "    <tr>\n",
       "      <th>6</th>\n",
       "      <td>XZ</td>\n",
       "      <td>None</td>\n",
       "      <td>None</td>\n",
       "      <td>None</td>\n",
       "      <td>NaN</td>\n",
       "      <td>NaN</td>\n",
       "      <td>NaN</td>\n",
       "    </tr>\n",
       "    <tr>\n",
       "      <th>7</th>\n",
       "      <td>usa</td>\n",
       "      <td>us</td>\n",
       "      <td>usa</td>\n",
       "      <td>united states of america</td>\n",
       "      <td>united states of america</td>\n",
       "      <td>us</td>\n",
       "      <td>usa</td>\n",
       "    </tr>\n",
       "    <tr>\n",
       "      <th>8</th>\n",
       "      <td>Arg</td>\n",
       "      <td>ar</td>\n",
       "      <td>arg</td>\n",
       "      <td>argentina</td>\n",
       "      <td>argentina</td>\n",
       "      <td>ar</td>\n",
       "      <td>arg</td>\n",
       "    </tr>\n",
       "    <tr>\n",
       "      <th>9</th>\n",
       "      <td>AUS</td>\n",
       "      <td>au</td>\n",
       "      <td>aus</td>\n",
       "      <td>australia</td>\n",
       "      <td>australia</td>\n",
       "      <td>au</td>\n",
       "      <td>aus</td>\n",
       "    </tr>\n",
       "    <tr>\n",
       "      <th>10</th>\n",
       "      <td>ZZZ</td>\n",
       "      <td>None</td>\n",
       "      <td>None</td>\n",
       "      <td>None</td>\n",
       "      <td>NaN</td>\n",
       "      <td>NaN</td>\n",
       "      <td>NaN</td>\n",
       "    </tr>\n",
       "    <tr>\n",
       "      <th>11</th>\n",
       "      <td>can</td>\n",
       "      <td>ca</td>\n",
       "      <td>can</td>\n",
       "      <td>canada</td>\n",
       "      <td>canada</td>\n",
       "      <td>ca</td>\n",
       "      <td>can</td>\n",
       "    </tr>\n",
       "    <tr>\n",
       "      <th>12</th>\n",
       "      <td>DNK</td>\n",
       "      <td>dk</td>\n",
       "      <td>dnk</td>\n",
       "      <td>denmark</td>\n",
       "      <td>denmark</td>\n",
       "      <td>dk</td>\n",
       "      <td>dnk</td>\n",
       "    </tr>\n",
       "    <tr>\n",
       "      <th>13</th>\n",
       "      <td>United States of America</td>\n",
       "      <td>us</td>\n",
       "      <td>usa</td>\n",
       "      <td>united states of america</td>\n",
       "      <td>united states of america</td>\n",
       "      <td>us</td>\n",
       "      <td>usa</td>\n",
       "    </tr>\n",
       "    <tr>\n",
       "      <th>14</th>\n",
       "      <td>GERMANY</td>\n",
       "      <td>de</td>\n",
       "      <td>deu</td>\n",
       "      <td>germany</td>\n",
       "      <td>germany</td>\n",
       "      <td>de</td>\n",
       "      <td>deu</td>\n",
       "    </tr>\n",
       "    <tr>\n",
       "      <th>15</th>\n",
       "      <td>belgium</td>\n",
       "      <td>be</td>\n",
       "      <td>bel</td>\n",
       "      <td>belgium</td>\n",
       "      <td>belgium</td>\n",
       "      <td>be</td>\n",
       "      <td>bel</td>\n",
       "    </tr>\n",
       "    <tr>\n",
       "      <th>16</th>\n",
       "      <td>WAKANDA</td>\n",
       "      <td>None</td>\n",
       "      <td>None</td>\n",
       "      <td>None</td>\n",
       "      <td>NaN</td>\n",
       "      <td>NaN</td>\n",
       "      <td>NaN</td>\n",
       "    </tr>\n",
       "    <tr>\n",
       "      <th>17</th>\n",
       "      <td>Portugal</td>\n",
       "      <td>pt</td>\n",
       "      <td>prt</td>\n",
       "      <td>portugal</td>\n",
       "      <td>portugal</td>\n",
       "      <td>pt</td>\n",
       "      <td>prt</td>\n",
       "    </tr>\n",
       "  </tbody>\n",
       "</table>\n",
       "</div>"
      ],
      "text/plain": [
       "                     COUNTRY ALPHA2 ALPHA3                      NAME  \\\n",
       "0                         NC     nc    ncl             new caledonia   \n",
       "1                         Fr     fr    fra                    france   \n",
       "2                         CA     ca    can                    canada   \n",
       "3                         IT     it    ita                     italy   \n",
       "4                         es     es    esp                     spain   \n",
       "5                         ZZ   None   None                      None   \n",
       "6                         XZ   None   None                      None   \n",
       "7                        usa     us    usa  united states of america   \n",
       "8                        Arg     ar    arg                 argentina   \n",
       "9                        AUS     au    aus                 australia   \n",
       "10                       ZZZ   None   None                      None   \n",
       "11                       can     ca    can                    canada   \n",
       "12                       DNK     dk    dnk                   denmark   \n",
       "13  United States of America     us    usa  united states of america   \n",
       "14                   GERMANY     de    deu                   germany   \n",
       "15                   belgium     be    bel                   belgium   \n",
       "16                   WAKANDA   None   None                      None   \n",
       "17                  Portugal     pt    prt                  portugal   \n",
       "\n",
       "          CLEAN_COUNTRY_NAME CLEAN_ALPHA2 CLEAN_ALPHA3  \n",
       "0              new caledonia           nc          ncl  \n",
       "1                     france           fr          fra  \n",
       "2                     canada           ca          can  \n",
       "3                      italy           it          ita  \n",
       "4                      spain           es          esp  \n",
       "5                        NaN          NaN          NaN  \n",
       "6                        NaN          NaN          NaN  \n",
       "7   united states of america           us          usa  \n",
       "8                  argentina           ar          arg  \n",
       "9                  australia           au          aus  \n",
       "10                       NaN          NaN          NaN  \n",
       "11                    canada           ca          can  \n",
       "12                   denmark           dk          dnk  \n",
       "13  united states of america           us          usa  \n",
       "14                   germany           de          deu  \n",
       "15                   belgium           be          bel  \n",
       "16                       NaN          NaN          NaN  \n",
       "17                  portugal           pt          prt  "
      ]
     },
     "execution_count": 26,
     "metadata": {},
     "output_type": "execute_result"
    }
   ],
   "source": [
    "df_cleaner"
   ]
  },
  {
   "cell_type": "markdown",
   "id": "4bed933f",
   "metadata": {},
   "source": [
    "## 5. Cleaning a csv file with AutoCleaner"
   ]
  },
  {
   "cell_type": "code",
   "execution_count": 27,
   "id": "323a5839",
   "metadata": {},
   "outputs": [],
   "source": [
    "# Import the module for normalizing country information\n",
    "from financial_entity_cleaner.auto_cleaner import auto_cleaner"
   ]
  },
  {
   "cell_type": "code",
   "execution_count": 28,
   "id": "90063624",
   "metadata": {},
   "outputs": [
    {
     "name": "stdout",
     "output_type": "stream",
     "text": [
      "C:\\Users\\Patrycia\\OneDrive\\Projects\\GitHub\\os_climate\\financial-entity-cleaner\\financial_entity_cleaner\\auto_cleaner\\logs\n"
     ]
    }
   ],
   "source": [
    "# Create an AutoCleaner object\n",
    "auto_cleaner_obj=auto_cleaner.AutoCleaner()"
   ]
  },
  {
   "cell_type": "code",
   "execution_count": 29,
   "id": "fcaed018",
   "metadata": {},
   "outputs": [],
   "source": [
    "input_filename = '../../tests/data/test_cleaner_country.csv'"
   ]
  },
  {
   "cell_type": "code",
   "execution_count": 30,
   "id": "c2899665",
   "metadata": {},
   "outputs": [],
   "source": [
    "setup_cleaning_filename = '../../tests/data/test_cleaner_country.json'"
   ]
  },
  {
   "cell_type": "code",
   "execution_count": 31,
   "id": "8f9406d1",
   "metadata": {},
   "outputs": [],
   "source": [
    "output_filename = '../../tests/data/test_cleaner_country_result.csv'"
   ]
  },
  {
   "cell_type": "code",
   "execution_count": 32,
   "id": "7eea4ffe",
   "metadata": {},
   "outputs": [
    {
     "data": {
      "text/plain": [
       "True"
      ]
     },
     "execution_count": 32,
     "metadata": {},
     "output_type": "execute_result"
    }
   ],
   "source": [
    "auto_cleaner_obj.clean_csv_file(input_filename, setup_cleaning_filename, output_filename)"
   ]
  },
  {
   "cell_type": "code",
   "execution_count": null,
   "id": "73eebf31",
   "metadata": {},
   "outputs": [],
   "source": []
  }
 ],
 "metadata": {
  "kernelspec": {
   "display_name": "Python 3",
   "language": "python",
   "name": "python3"
  },
  "language_info": {
   "codemirror_mode": {
    "name": "ipython",
    "version": 3
   },
   "file_extension": ".py",
   "mimetype": "text/x-python",
   "name": "python",
   "nbconvert_exporter": "python",
   "pygments_lexer": "ipython3",
   "version": "3.9.5"
  }
 },
 "nbformat": 4,
 "nbformat_minor": 5
}
