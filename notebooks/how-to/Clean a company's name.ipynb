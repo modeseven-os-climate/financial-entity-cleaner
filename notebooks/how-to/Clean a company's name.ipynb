{
 "cells": [
  {
   "cell_type": "markdown",
   "id": "2f4c319e",
   "metadata": {},
   "source": [
    "# How to...clean a company's name"
   ]
  },
  {
   "cell_type": "markdown",
   "id": "9d9e8979",
   "metadata": {},
   "source": [
    "This notebook shows how to use the entitymatching api to clean attributes that contain a company's name. The cleaning process relies in two internal and customized dictionaries to apply the desirable cleaning rules: \n",
    "- Dictionary of Legal Terms: defines the replacement rules to normalize the legal forms for business. For instance, a company's name that has LT as its legal form, will be normalized as LIMITED. \n",
    "- Dictionary of cleaning rules: defines the cleaning rules to be applied, for example: remove numbers, punctuations, etc."
   ]
  },
  {
   "cell_type": "code",
   "execution_count": 3,
   "id": "8e068caa",
   "metadata": {},
   "outputs": [],
   "source": [
    "# Sets up the location of the api relative to this notebook \n",
    "import sys\n",
    "sys.path.append('../../')"
   ]
  },
  {
   "cell_type": "code",
   "execution_count": 4,
   "id": "f0e1f3c1",
   "metadata": {},
   "outputs": [],
   "source": [
    "# Import the module for cleaning company's name\n",
    "from financialcleaner import company"
   ]
  },
  {
   "cell_type": "code",
   "execution_count": 5,
   "id": "1a672124",
   "metadata": {},
   "outputs": [
    {
     "name": "stdout",
     "output_type": "stream",
     "text": [
      "COMPANY NAME TO CLEAN:  [89]\tGRAND BUDAPEST HOTEL adm@budapest.com %& 7((888)) www.gbhotel.com lt\n"
     ]
    }
   ],
   "source": [
    "# Example of some company name with unicode, punctuation, URL and email\n",
    "company_name = ' [89]\tGRAND BUDAPEST HOTEL adm@budapest.com %& 7((888)) www.gbhotel.com lt'\n",
    "print('COMPANY NAME TO CLEAN: {}'.format(company_name))"
   ]
  },
  {
   "cell_type": "markdown",
   "id": "4016ebb4",
   "metadata": {},
   "source": [
    "## 1. Using the default cleaning"
   ]
  },
  {
   "cell_type": "markdown",
   "id": "e9fc16d3",
   "metadata": {},
   "source": [
    "Default parameters: performs the normalization of legal terms and returns the clean name in lower case."
   ]
  },
  {
   "cell_type": "code",
   "execution_count": 6,
   "id": "7d0cd5dc",
   "metadata": {},
   "outputs": [
    {
     "name": "stdout",
     "output_type": "stream",
     "text": [
      "grand budapest hotel limited\n"
     ]
    }
   ],
   "source": [
    "# Call the cleaning function\n",
    "clean_name = company.get_clean_name(company_name)\n",
    "print(clean_name)"
   ]
  },
  {
   "cell_type": "markdown",
   "id": "41590168",
   "metadata": {},
   "source": [
    "## 2. Not applying the normalization of legal terms"
   ]
  },
  {
   "cell_type": "code",
   "execution_count": 7,
   "id": "5edec6c7",
   "metadata": {},
   "outputs": [
    {
     "name": "stdout",
     "output_type": "stream",
     "text": [
      "grand budapest hotel lt\n"
     ]
    }
   ],
   "source": [
    "# Call the cleaning function\n",
    "clean_name = company.get_clean_name(company_name, normalize_legal_terms=False)\n",
    "print(clean_name)"
   ]
  },
  {
   "cell_type": "markdown",
   "id": "36d5eedd",
   "metadata": {},
   "source": [
    "## 3. Returning the clean name in upper case"
   ]
  },
  {
   "cell_type": "code",
   "execution_count": 8,
   "id": "d891e8c9",
   "metadata": {},
   "outputs": [
    {
     "name": "stdout",
     "output_type": "stream",
     "text": [
      "GRAND BUDAPEST HOTEL LIMITED\n"
     ]
    }
   ],
   "source": [
    "# Call the cleaning function\n",
    "clean_name = company.get_clean_name(company_name, output_lettercase='upper')\n",
    "print(clean_name)"
   ]
  },
  {
   "cell_type": "markdown",
   "id": "10f249bd",
   "metadata": {},
   "source": [
    "## 4. Returning the clean name with the first letter capitalized"
   ]
  },
  {
   "cell_type": "code",
   "execution_count": 9,
   "id": "fdadacea",
   "metadata": {},
   "outputs": [
    {
     "name": "stdout",
     "output_type": "stream",
     "text": [
      "Grand Budapest Hotel Limited\n"
     ]
    }
   ],
   "source": [
    "# Call the cleaning function\n",
    "clean_name = company.get_clean_name(company_name, output_lettercase='title')\n",
    "print(clean_name)"
   ]
  },
  {
   "cell_type": "code",
   "execution_count": null,
   "id": "539cf2d0",
   "metadata": {},
   "outputs": [],
   "source": []
  }
 ],
 "metadata": {
  "kernelspec": {
   "display_name": "Python 3",
   "language": "python",
   "name": "python3"
  },
  "language_info": {
   "codemirror_mode": {
    "name": "ipython",
    "version": 3
   },
   "file_extension": ".py",
   "mimetype": "text/x-python",
   "name": "python",
   "nbconvert_exporter": "python",
   "pygments_lexer": "ipython3",
   "version": "3.9.5"
  }
 },
 "nbformat": 4,
 "nbformat_minor": 5
}
