{
 "cells": [
  {
   "cell_type": "markdown",
   "id": "2f4c319e",
   "metadata": {},
   "source": [
    "# How to...clean a company's name"
   ]
  },
  {
   "cell_type": "markdown",
   "id": "9d9e8979",
   "metadata": {},
   "source": [
    "This notebook shows how to use the entitymatching api to clean attributes that contain a company's name. The cleaning process relies in two internal and customized dictionaries to apply the desirable cleaning rules: \n",
    "- Dictionary of Legal Terms: defines the replacement rules to normalize the legal forms for business. For instance, a company's name that has LT as its legal form, will be normalized as LIMITED. \n",
    "- Dictionary of cleaning rules: defines the cleaning rules to be applied, for example: remove numbers, punctuations, etc."
   ]
  },
  {
   "cell_type": "code",
   "execution_count": 1,
   "id": "8e068caa",
   "metadata": {},
   "outputs": [],
   "source": [
    "# Sets up the location of the api relative to this notebook \n",
    "import sys\n",
    "sys.path.append('../../')"
   ]
  },
  {
   "cell_type": "code",
   "execution_count": 2,
   "id": "f0e1f3c1",
   "metadata": {},
   "outputs": [],
   "source": [
    "# Import the module for cleaning company's name\n",
    "from financial_entity_cleaner.company_cleaner import company"
   ]
  },
  {
   "cell_type": "code",
   "execution_count": 3,
   "id": "7b060fa7",
   "metadata": {},
   "outputs": [],
   "source": [
    "# Create a CompanyNameCleaner object\n",
    "company_cleaner_obj=company.CompanyNameCleaner()"
   ]
  },
  {
   "cell_type": "code",
   "execution_count": 4,
   "id": "e0543092",
   "metadata": {},
   "outputs": [],
   "source": [
    "# Set up some properties of the cleaner library\n",
    "company_cleaner_obj.normalize_legal_terms = True\n",
    "company_cleaner_obj.output_lettercase=\"title\"\n",
    "company_cleaner_obj.remove_unicode=True"
   ]
  },
  {
   "cell_type": "code",
   "execution_count": 5,
   "id": "555d2033",
   "metadata": {},
   "outputs": [
    {
     "data": {
      "text/plain": [
       "['en,us', 'pt,pt', 'pt,br', 'fr,fr']"
      ]
     },
     "execution_count": 5,
     "metadata": {},
     "output_type": "execute_result"
    }
   ],
   "source": [
    "# Checking the type of legal terms dictionary available\n",
    "# The method returns a list of 'language,country'\n",
    "company_cleaner_obj.get_types_available_legal_term_dict()"
   ]
  },
  {
   "cell_type": "code",
   "execution_count": 6,
   "id": "1a672124",
   "metadata": {},
   "outputs": [
    {
     "name": "stdout",
     "output_type": "stream",
     "text": [
      "COMPANY NAME TO CLEAN:  [89]\tGRAND BUDAPEST HOTEL adm@budapest.com %& 7((888)) www.gbhotel.com lt\n"
     ]
    }
   ],
   "source": [
    "# Example of some company name with unicode, punctuation, URL and email\n",
    "company_name = ' [89]\tGRAND BUDAPEST HOTEL adm@budapest.com %& 7((888)) www.gbhotel.com lt'\n",
    "print('COMPANY NAME TO CLEAN: {}'.format(company_name))"
   ]
  },
  {
   "cell_type": "markdown",
   "id": "4016ebb4",
   "metadata": {},
   "source": [
    "## 1. Using the default cleaning"
   ]
  },
  {
   "cell_type": "code",
   "execution_count": 7,
   "id": "9d451110",
   "metadata": {},
   "outputs": [],
   "source": [
    "test = 'chugach electric assn inc'"
   ]
  },
  {
   "cell_type": "code",
   "execution_count": 8,
   "id": "51aed7f7",
   "metadata": {},
   "outputs": [
    {
     "data": {
      "text/plain": [
       "'Chugach Electric Association Incorporated'"
      ]
     },
     "execution_count": 8,
     "metadata": {},
     "output_type": "execute_result"
    }
   ],
   "source": [
    "company_cleaner_obj.get_clean_name(test)"
   ]
  },
  {
   "cell_type": "code",
   "execution_count": 9,
   "id": "4c220329",
   "metadata": {},
   "outputs": [
    {
     "data": {
      "text/plain": [
       "['en', 'us']"
      ]
     },
     "execution_count": 9,
     "metadata": {},
     "output_type": "execute_result"
    }
   ],
   "source": [
    "# Checking the type of legal terms dictionary set as default\n",
    "# returns 'language,country'\n",
    "company_cleaner_obj.get_type_current_legal_term_dict()"
   ]
  },
  {
   "cell_type": "code",
   "execution_count": 10,
   "id": "4032e549",
   "metadata": {},
   "outputs": [
    {
     "data": {
      "text/plain": [
       "['remove_email',\n",
       " 'remove_url',\n",
       " 'remove_www_address',\n",
       " 'remove_words_in_parentheses',\n",
       " 'remove_numbers',\n",
       " 'replace_hyphen_underscore_by_space',\n",
       " 'remove_all_punctuation',\n",
       " 'enforce_single_space_between_words']"
      ]
     },
     "execution_count": 10,
     "metadata": {},
     "output_type": "execute_result"
    }
   ],
   "source": [
    "# Checking the cleaning rules set as default\n",
    "company_cleaner_obj.default_cleaning_rules"
   ]
  },
  {
   "cell_type": "markdown",
   "id": "e9fc16d3",
   "metadata": {},
   "source": [
    "Default parameters: performs the normalization of legal terms and returns the clean name in lower case."
   ]
  },
  {
   "cell_type": "code",
   "execution_count": 11,
   "id": "7d0cd5dc",
   "metadata": {},
   "outputs": [
    {
     "name": "stdout",
     "output_type": "stream",
     "text": [
      "Grand Budapest Hotel Corporation Corporation Limited\n"
     ]
    }
   ],
   "source": [
    "# Call the cleaning function with the default cleaning rules\n",
    "clean_name = company_cleaner_obj.get_clean_name(company_name)\n",
    "print(clean_name)"
   ]
  },
  {
   "cell_type": "markdown",
   "id": "41590168",
   "metadata": {},
   "source": [
    "## 2. Not applying the normalization of legal terms"
   ]
  },
  {
   "cell_type": "code",
   "execution_count": 12,
   "id": "8f2d6d10",
   "metadata": {},
   "outputs": [],
   "source": [
    "# Remove the normalization of the legal terms\n",
    "company_cleaner_obj.normalize_legal_terms = False"
   ]
  },
  {
   "cell_type": "code",
   "execution_count": 13,
   "id": "5edec6c7",
   "metadata": {},
   "outputs": [
    {
     "name": "stdout",
     "output_type": "stream",
     "text": [
      "Grand Budapest Hotel Lt\n"
     ]
    }
   ],
   "source": [
    "# Call the cleaning function\n",
    "clean_name = company_cleaner_obj.get_clean_name(company_name)\n",
    "print(clean_name)"
   ]
  },
  {
   "cell_type": "markdown",
   "id": "36d5eedd",
   "metadata": {},
   "source": [
    "## 3. Returning the clean name in upper case"
   ]
  },
  {
   "cell_type": "code",
   "execution_count": 14,
   "id": "d891e8c9",
   "metadata": {},
   "outputs": [
    {
     "name": "stdout",
     "output_type": "stream",
     "text": [
      "GRAND BUDAPEST HOTEL LT\n"
     ]
    }
   ],
   "source": [
    "# Changing the resultant letter case\n",
    "company_cleaner_obj.output_lettercase=\"upper\"\n",
    "\n",
    "# Call the cleaning function\n",
    "clean_name = company_cleaner_obj.get_clean_name(company_name)\n",
    "print(clean_name)"
   ]
  },
  {
   "cell_type": "markdown",
   "id": "10f249bd",
   "metadata": {},
   "source": [
    "## 4. Changing the cleaning rules"
   ]
  },
  {
   "cell_type": "code",
   "execution_count": 15,
   "id": "704ea809",
   "metadata": {},
   "outputs": [
    {
     "data": {
      "text/plain": [
       "['remove_email',\n",
       " 'remove_url',\n",
       " 'remove_www_address',\n",
       " 'enforce_single_space_between_words',\n",
       " 'treat_AND',\n",
       " 'replace_hyphen_underscore_by_space',\n",
       " 'remove_all_punctuation',\n",
       " 'remove_mentions',\n",
       " 'remove_hashtags',\n",
       " 'remove_numbers',\n",
       " 'remove_single_quote_next_character',\n",
       " 'remove_words_in_parentheses']"
      ]
     },
     "execution_count": 15,
     "metadata": {},
     "output_type": "execute_result"
    }
   ],
   "source": [
    "# Checking the cleaning rules available\n",
    "company_cleaner_obj.get_cleaning_rules_available()"
   ]
  },
  {
   "cell_type": "code",
   "execution_count": 16,
   "id": "5f2e4e0c",
   "metadata": {},
   "outputs": [
    {
     "data": {
      "text/plain": [
       "' [89]\\tGRAND BUDAPEST HOTEL adm@budapest.com %& 7((888)) www.gbhotel.com lt'"
      ]
     },
     "execution_count": 16,
     "metadata": {},
     "output_type": "execute_result"
    }
   ],
   "source": [
    "company_name"
   ]
  },
  {
   "cell_type": "code",
   "execution_count": 17,
   "id": "aa91a801",
   "metadata": {},
   "outputs": [],
   "source": [
    "# Set up new cleaning rules\n",
    "my_custom_cleaning_rules=['remove_words_in_parentheses','remove_all_punctuation','enforce_single_space_between_words']"
   ]
  },
  {
   "cell_type": "code",
   "execution_count": 18,
   "id": "74fd41b8",
   "metadata": {},
   "outputs": [],
   "source": [
    "# Set the new cleaning rules as default in the library\n",
    "company_cleaner_obj.default_cleaning_rules=my_custom_cleaning_rules"
   ]
  },
  {
   "cell_type": "code",
   "execution_count": 19,
   "id": "8d71d086",
   "metadata": {},
   "outputs": [
    {
     "data": {
      "text/plain": [
       "' [89]\\tGRAND BUDAPEST HOTEL adm@budapest.com %& 7((888)) www.gbhotel.com lt'"
      ]
     },
     "execution_count": 19,
     "metadata": {},
     "output_type": "execute_result"
    }
   ],
   "source": [
    "# Print original name\n",
    "company_name"
   ]
  },
  {
   "cell_type": "code",
   "execution_count": 20,
   "id": "fdadacea",
   "metadata": {},
   "outputs": [
    {
     "name": "stdout",
     "output_type": "stream",
     "text": [
      "89 GRAND BUDAPEST HOTEL ADMBUDAPESTCOM 7 WWWGBHOTELCOM LT\n"
     ]
    }
   ],
   "source": [
    "# Call the cleaning function\n",
    "clean_name = company_cleaner_obj.get_clean_name(company_name)\n",
    "print(clean_name)"
   ]
  },
  {
   "cell_type": "markdown",
   "id": "0aa0f70a",
   "metadata": {},
   "source": [
    "## 5. Changing the dictionary of legal terms"
   ]
  },
  {
   "cell_type": "code",
   "execution_count": 21,
   "id": "90c1b44e",
   "metadata": {},
   "outputs": [],
   "source": [
    "company_name='assurant holdings france sas'"
   ]
  },
  {
   "cell_type": "code",
   "execution_count": 22,
   "id": "244f689c",
   "metadata": {},
   "outputs": [],
   "source": [
    "# Remove the normalization of the legal terms\n",
    "company_cleaner_obj.normalize_legal_terms = True"
   ]
  },
  {
   "cell_type": "code",
   "execution_count": 23,
   "id": "e20408c7",
   "metadata": {},
   "outputs": [],
   "source": [
    "company_cleaner_obj.set_current_legal_term_dict('fr', 'fr')"
   ]
  },
  {
   "cell_type": "code",
   "execution_count": 24,
   "id": "276d589a",
   "metadata": {},
   "outputs": [
    {
     "data": {
      "text/plain": [
       "['fr', 'fr']"
      ]
     },
     "execution_count": 24,
     "metadata": {},
     "output_type": "execute_result"
    }
   ],
   "source": [
    "# Checking the type of legal terms dictionary set as default\n",
    "# returns 'language,country'\n",
    "company_cleaner_obj.get_type_current_legal_term_dict()"
   ]
  },
  {
   "cell_type": "code",
   "execution_count": 25,
   "id": "faf6e873",
   "metadata": {},
   "outputs": [
    {
     "name": "stdout",
     "output_type": "stream",
     "text": [
      "ASSURANT HOLDINGS FRANCE SOCIÉTÉ PAR ACTIONS SIMPLIFIÉE\n"
     ]
    }
   ],
   "source": [
    "# Call the cleaning function\n",
    "clean_name = company_cleaner_obj.get_clean_name(company_name)\n",
    "print(clean_name)"
   ]
  },
  {
   "cell_type": "code",
   "execution_count": 26,
   "id": "31e78523",
   "metadata": {},
   "outputs": [],
   "source": [
    "company_name ='c.s.n.s.p. 452, s.a.'"
   ]
  },
  {
   "cell_type": "code",
   "execution_count": 27,
   "id": "8fa51649",
   "metadata": {},
   "outputs": [],
   "source": [
    "company_cleaner_obj.set_current_legal_term_dict('pt', 'pt')"
   ]
  },
  {
   "cell_type": "code",
   "execution_count": 29,
   "id": "fddb0673",
   "metadata": {},
   "outputs": [
    {
     "data": {
      "text/plain": [
       "['pt', 'pt']"
      ]
     },
     "execution_count": 29,
     "metadata": {},
     "output_type": "execute_result"
    }
   ],
   "source": [
    "# Checking the type of legal terms dictionary set as default\n",
    "# returns 'language,country'\n",
    "company_cleaner_obj.get_type_current_legal_term_dict()"
   ]
  },
  {
   "cell_type": "code",
   "execution_count": 30,
   "id": "5982262b",
   "metadata": {},
   "outputs": [
    {
     "name": "stdout",
     "output_type": "stream",
     "text": [
      "CSNSP 452 SOCIEDADE ANÔNIMA\n"
     ]
    }
   ],
   "source": [
    "# Call the cleaning function\n",
    "clean_name = company_cleaner_obj.get_clean_name(company_name)\n",
    "print(clean_name)"
   ]
  },
  {
   "cell_type": "code",
   "execution_count": 31,
   "id": "7a360470",
   "metadata": {},
   "outputs": [],
   "source": [
    "company_cleaner_obj.set_current_legal_term_dict('pt', 'br')"
   ]
  },
  {
   "cell_type": "code",
   "execution_count": 32,
   "id": "c168152c",
   "metadata": {},
   "outputs": [
    {
     "data": {
      "text/plain": [
       "['pt', 'br']"
      ]
     },
     "execution_count": 32,
     "metadata": {},
     "output_type": "execute_result"
    }
   ],
   "source": [
    "# Checking the type of legal terms dictionary set as default\n",
    "# returns 'language,country'\n",
    "company_cleaner_obj.get_type_current_legal_term_dict()"
   ]
  },
  {
   "cell_type": "code",
   "execution_count": 33,
   "id": "75804a31",
   "metadata": {},
   "outputs": [
    {
     "name": "stdout",
     "output_type": "stream",
     "text": [
      "CSNSP 452 SOCIEDADE ANÔNIMA\n"
     ]
    }
   ],
   "source": [
    "# Call the cleaning function\n",
    "clean_name = company_cleaner_obj.get_clean_name(company_name)\n",
    "print(clean_name)"
   ]
  },
  {
   "cell_type": "code",
   "execution_count": null,
   "id": "d531d2b3",
   "metadata": {},
   "outputs": [],
   "source": []
  }
 ],
 "metadata": {
  "kernelspec": {
   "display_name": "Python 3",
   "language": "python",
   "name": "python3"
  },
  "language_info": {
   "codemirror_mode": {
    "name": "ipython",
    "version": 3
   },
   "file_extension": ".py",
   "mimetype": "text/x-python",
   "name": "python",
   "nbconvert_exporter": "python",
   "pygments_lexer": "ipython3",
   "version": "3.9.5"
  }
 },
 "nbformat": 4,
 "nbformat_minor": 5
}
