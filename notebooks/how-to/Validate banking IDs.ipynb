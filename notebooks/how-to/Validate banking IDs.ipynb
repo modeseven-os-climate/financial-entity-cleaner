{
 "cells": [
  {
   "cell_type": "markdown",
   "id": "a937f3c4",
   "metadata": {},
   "source": [
    "# How to...validate banking IDs"
   ]
  },
  {
   "cell_type": "markdown",
   "id": "a807cc4a",
   "metadata": {},
   "source": [
    "This notebook shows how to use the entitymatching api to validate banking ids, such as ISIN, LEI and SEDOL."
   ]
  },
  {
   "cell_type": "code",
   "execution_count": 1,
   "id": "f41d78ec",
   "metadata": {},
   "outputs": [],
   "source": [
    "# Sets up the location of the api relative to this notebook \n",
    "import sys\n",
    "sys.path.append('../../')"
   ]
  },
  {
   "cell_type": "code",
   "execution_count": 2,
   "id": "98eea0b4",
   "metadata": {},
   "outputs": [],
   "source": [
    "# Import the module for normalizing banking id information\n",
    "from financial_entity_cleaner.id_cleaner import banking_id"
   ]
  },
  {
   "cell_type": "code",
   "execution_count": 3,
   "id": "da81e534",
   "metadata": {},
   "outputs": [],
   "source": [
    "# Create a CountryCleaner object\n",
    "id_cleaner_obj=banking_id.BankingIdCleaner()"
   ]
  },
  {
   "cell_type": "code",
   "execution_count": 4,
   "id": "9db751c5",
   "metadata": {},
   "outputs": [
    {
     "data": {
      "text/plain": [
       "['lei', 'isin', 'sedol']"
      ]
     },
     "execution_count": 4,
     "metadata": {},
     "output_type": "execute_result"
    }
   ],
   "source": [
    "# Check the types of validation available\n",
    "id_cleaner_obj.get_types_id_validations()"
   ]
  },
  {
   "cell_type": "markdown",
   "id": "ff699a9c",
   "metadata": {},
   "source": [
    "## 1. Basic usage"
   ]
  },
  {
   "cell_type": "markdown",
   "id": "4cb88cca",
   "metadata": {},
   "source": [
    "By default, the API assumes that the value passed as parameter is an ISIN code.\n",
    "The API returns:\n",
    "- None if the value is not a string or has no characters in it.\n",
    "- True if the value is a valid ID of the specified type\n",
    "- False if the value is not a valid ID of the specified type"
   ]
  },
  {
   "cell_type": "code",
   "execution_count": null,
   "id": "a60fd0c2",
   "metadata": {},
   "outputs": [],
   "source": [
    "id_cleaner_obj.id_type"
   ]
  },
  {
   "cell_type": "code",
   "execution_count": null,
   "id": "b59ac0a9",
   "metadata": {},
   "outputs": [],
   "source": [
    "# Testing a valid ISIN code\n",
    "id_cleaner_obj.is_valid_id('GB00B1YW4409')"
   ]
  },
  {
   "cell_type": "code",
   "execution_count": null,
   "id": "d1914800",
   "metadata": {},
   "outputs": [],
   "source": [
    "# Testing an invalid ISIN code\n",
    "id_cleaner_obj.is_valid_id('tttt0B1YW4409')"
   ]
  },
  {
   "cell_type": "markdown",
   "id": "48fad1c5",
   "metadata": {},
   "source": [
    "## 2. Working with other ID types (LEI and SEDOL)"
   ]
  },
  {
   "cell_type": "code",
   "execution_count": null,
   "id": "ac661233",
   "metadata": {},
   "outputs": [],
   "source": [
    "id_cleaner_obj.id_type='lei'"
   ]
  },
  {
   "cell_type": "code",
   "execution_count": null,
   "id": "580391ac",
   "metadata": {},
   "outputs": [],
   "source": [
    "# Testing a valid LEI code\n",
    "id_cleaner_obj.is_valid_id('969500DPKGC9JE9F0820')"
   ]
  },
  {
   "cell_type": "code",
   "execution_count": null,
   "id": "1037008f",
   "metadata": {},
   "outputs": [],
   "source": [
    "id_cleaner_obj.id_type='sedol'"
   ]
  },
  {
   "cell_type": "code",
   "execution_count": null,
   "id": "0d0be5de",
   "metadata": {},
   "outputs": [],
   "source": [
    "# Testing a valid SEDOL code\n",
    "id_cleaner_obj.is_valid_id('2595708')"
   ]
  },
  {
   "cell_type": "markdown",
   "id": "d14d1883",
   "metadata": {},
   "source": [
    "The library throws an exception id the type is not supported."
   ]
  },
  {
   "cell_type": "code",
   "execution_count": null,
   "id": "3aff58af",
   "metadata": {},
   "outputs": [],
   "source": [
    "id_cleaner_obj.id_type='test'"
   ]
  },
  {
   "cell_type": "markdown",
   "id": "f8b59a64",
   "metadata": {},
   "source": [
    "## 3. Cleaning and Validating"
   ]
  },
  {
   "cell_type": "markdown",
   "id": "42f8d204",
   "metadata": {},
   "source": [
    "The library can also be used for cleaning and validation at the same time. In this case, it will return a list of values where list[0] indicates if the id is valid or not and list[1] returns the cleaner ID."
   ]
  },
  {
   "cell_type": "code",
   "execution_count": null,
   "id": "d8aada62",
   "metadata": {},
   "outputs": [],
   "source": [
    "id_cleaner_obj.id_type='lei'"
   ]
  },
  {
   "cell_type": "code",
   "execution_count": null,
   "id": "bb4af555",
   "metadata": {},
   "outputs": [],
   "source": [
    "# Cleaning a valid LEI code\n",
    "clean_lei = id_cleaner_obj.get_clean_id('969500DPKGC9JE9F0820')\n",
    "clean_lei"
   ]
  },
  {
   "cell_type": "markdown",
   "id": "0b76bead",
   "metadata": {},
   "source": [
    "By default, if the id is invalid get_clean_id() returns np.nan"
   ]
  },
  {
   "cell_type": "code",
   "execution_count": null,
   "id": "904b5524",
   "metadata": {},
   "outputs": [],
   "source": [
    "# Cleaning an invalid LEI code\n",
    "clean_lei = id_cleaner_obj.get_clean_id('96XX00DPKGC9JE9F0820')\n",
    "clean_lei"
   ]
  },
  {
   "cell_type": "markdown",
   "id": "74c4787a",
   "metadata": {},
   "source": [
    "If this behaviour is not required, set the parameter set_null_for_invalid=False"
   ]
  },
  {
   "cell_type": "code",
   "execution_count": null,
   "id": "7cb2f120",
   "metadata": {},
   "outputs": [],
   "source": [
    "# Cleaning an invalid LEI code\n",
    "clean_lei = id_cleaner_obj.get_clean_id('96XX00DPKGC9JE9F0820', False)\n",
    "clean_lei"
   ]
  },
  {
   "cell_type": "code",
   "execution_count": null,
   "id": "c240145a",
   "metadata": {},
   "outputs": [],
   "source": []
  }
 ],
 "metadata": {
  "kernelspec": {
   "display_name": "Python 3",
   "language": "python",
   "name": "python3"
  },
  "language_info": {
   "codemirror_mode": {
    "name": "ipython",
    "version": 3
   },
   "file_extension": ".py",
   "mimetype": "text/x-python",
   "name": "python",
   "nbconvert_exporter": "python",
   "pygments_lexer": "ipython3",
   "version": "3.9.5"
  }
 },
 "nbformat": 4,
 "nbformat_minor": 5
}
