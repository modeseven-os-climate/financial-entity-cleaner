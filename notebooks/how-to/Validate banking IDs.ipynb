{
 "cells": [
  {
   "cell_type": "markdown",
   "id": "a937f3c4",
   "metadata": {},
   "source": [
    "# How to...validate banking IDs"
   ]
  },
  {
   "cell_type": "markdown",
   "id": "a807cc4a",
   "metadata": {},
   "source": [
    "This notebook shows how to use the entitymatching api to validate banking ids, such as ISIN, LEI and SEDOL."
   ]
  },
  {
   "cell_type": "code",
   "execution_count": 1,
   "id": "f41d78ec",
   "metadata": {},
   "outputs": [],
   "source": [
    "# Sets up the location of the api relative to this notebook \n",
    "import sys\n",
    "sys.path.append('../../')"
   ]
  },
  {
   "cell_type": "code",
   "execution_count": 2,
   "id": "98eea0b4",
   "metadata": {},
   "outputs": [],
   "source": [
    "# Import the module for normalizing banking id information\n",
    "from financial_entity_cleaner.id_cleaner import banking_id"
   ]
  },
  {
   "cell_type": "code",
   "execution_count": 3,
   "id": "da81e534",
   "metadata": {},
   "outputs": [],
   "source": [
    "# Create a CountryCleaner object\n",
    "id_cleaner_obj=banking_id.BankingIdCleaner()"
   ]
  },
  {
   "cell_type": "code",
   "execution_count": 4,
   "id": "9db751c5",
   "metadata": {},
   "outputs": [
    {
     "data": {
      "text/plain": [
       "['lei', 'isin', 'sedol']"
      ]
     },
     "execution_count": 4,
     "metadata": {},
     "output_type": "execute_result"
    }
   ],
   "source": [
    "# Check the types of validation available\n",
    "id_cleaner_obj.get_types_id_validations()"
   ]
  },
  {
   "cell_type": "markdown",
   "id": "ff699a9c",
   "metadata": {},
   "source": [
    "## 1. Basic usage"
   ]
  },
  {
   "cell_type": "markdown",
   "id": "4cb88cca",
   "metadata": {},
   "source": [
    "By default, the API assumes that the value passed as parameter is an ISIN code.\n",
    "The API returns:\n",
    "- None if the value is not a string or has no characters in it.\n",
    "- True if the value is a valid ID of the specified type\n",
    "- False if the value is not a valid ID of the specified type"
   ]
  },
  {
   "cell_type": "code",
   "execution_count": 5,
   "id": "a60fd0c2",
   "metadata": {},
   "outputs": [
    {
     "data": {
      "text/plain": [
       "'isin'"
      ]
     },
     "execution_count": 5,
     "metadata": {},
     "output_type": "execute_result"
    }
   ],
   "source": [
    "id_cleaner_obj.id_type"
   ]
  },
  {
   "cell_type": "code",
   "execution_count": 6,
   "id": "b59ac0a9",
   "metadata": {},
   "outputs": [
    {
     "data": {
      "text/plain": [
       "True"
      ]
     },
     "execution_count": 6,
     "metadata": {},
     "output_type": "execute_result"
    }
   ],
   "source": [
    "# Testing a valid ISIN code\n",
    "id_cleaner_obj.is_valid_id('GB00B1YW4409')"
   ]
  },
  {
   "cell_type": "code",
   "execution_count": 7,
   "id": "d1914800",
   "metadata": {},
   "outputs": [
    {
     "data": {
      "text/plain": [
       "False"
      ]
     },
     "execution_count": 7,
     "metadata": {},
     "output_type": "execute_result"
    }
   ],
   "source": [
    "# Testing an invalid ISIN code\n",
    "id_cleaner_obj.is_valid_id('tttt0B1YW4409')"
   ]
  },
  {
   "cell_type": "markdown",
   "id": "48fad1c5",
   "metadata": {},
   "source": [
    "## 2. Working with other ID types (LEI and SEDOL)"
   ]
  },
  {
   "cell_type": "code",
   "execution_count": 8,
   "id": "ac661233",
   "metadata": {},
   "outputs": [],
   "source": [
    "id_cleaner_obj.id_type='lei'"
   ]
  },
  {
   "cell_type": "code",
   "execution_count": 9,
   "id": "580391ac",
   "metadata": {},
   "outputs": [
    {
     "data": {
      "text/plain": [
       "True"
      ]
     },
     "execution_count": 9,
     "metadata": {},
     "output_type": "execute_result"
    }
   ],
   "source": [
    "# Testing a valid LEI code\n",
    "id_cleaner_obj.is_valid_id('969500DPKGC9JE9F0820')"
   ]
  },
  {
   "cell_type": "code",
   "execution_count": 10,
   "id": "1037008f",
   "metadata": {},
   "outputs": [],
   "source": [
    "id_cleaner_obj.id_type='sedol'"
   ]
  },
  {
   "cell_type": "code",
   "execution_count": 11,
   "id": "0d0be5de",
   "metadata": {},
   "outputs": [
    {
     "data": {
      "text/plain": [
       "True"
      ]
     },
     "execution_count": 11,
     "metadata": {},
     "output_type": "execute_result"
    }
   ],
   "source": [
    "# Testing a valid SEDOL code\n",
    "id_cleaner_obj.is_valid_id('2595708')"
   ]
  },
  {
   "cell_type": "markdown",
   "id": "d14d1883",
   "metadata": {},
   "source": [
    "The library throws an exception id the type is not supported."
   ]
  },
  {
   "cell_type": "code",
   "execution_count": 12,
   "id": "3aff58af",
   "metadata": {},
   "outputs": [
    {
     "ename": "TypeOfBankingIdNotSupported",
     "evalue": "The type of banking id informed is not supported.",
     "output_type": "error",
     "traceback": [
      "\u001b[1;31m---------------------------------------------------------------------------\u001b[0m",
      "\u001b[1;31mTypeOfBankingIdNotSupported\u001b[0m               Traceback (most recent call last)",
      "\u001b[1;32m<ipython-input-12-089c328c3d0a>\u001b[0m in \u001b[0;36m<module>\u001b[1;34m\u001b[0m\n\u001b[1;32m----> 1\u001b[1;33m \u001b[0mid_cleaner_obj\u001b[0m\u001b[1;33m.\u001b[0m\u001b[0mid_type\u001b[0m\u001b[1;33m=\u001b[0m\u001b[1;34m'test'\u001b[0m\u001b[1;33m\u001b[0m\u001b[1;33m\u001b[0m\u001b[0m\n\u001b[0m",
      "\u001b[1;32m~\\OneDrive\\Projects\\GitHub\\os_climate\\financial-entity-cleaner\\notebooks\\how-to\\../..\\financial_entity_cleaner\\id_cleaner\\banking_id.py\u001b[0m in \u001b[0;36mid_type\u001b[1;34m(self, new_id_type)\u001b[0m\n\u001b[0;32m     82\u001b[0m     \u001b[1;32mdef\u001b[0m \u001b[0mid_type\u001b[0m\u001b[1;33m(\u001b[0m\u001b[0mself\u001b[0m\u001b[1;33m,\u001b[0m \u001b[0mnew_id_type\u001b[0m\u001b[1;33m)\u001b[0m\u001b[1;33m:\u001b[0m\u001b[1;33m\u001b[0m\u001b[1;33m\u001b[0m\u001b[0m\n\u001b[0;32m     83\u001b[0m         \u001b[1;32mif\u001b[0m \u001b[1;32mnot\u001b[0m \u001b[1;33m(\u001b[0m\u001b[0mnew_id_type\u001b[0m \u001b[1;32min\u001b[0m \u001b[0mself\u001b[0m\u001b[1;33m.\u001b[0m\u001b[0m__VALIDATIONS_SUPPORTED\u001b[0m\u001b[1;33m)\u001b[0m\u001b[1;33m:\u001b[0m\u001b[1;33m\u001b[0m\u001b[1;33m\u001b[0m\u001b[0m\n\u001b[1;32m---> 84\u001b[1;33m             \u001b[1;32mraise\u001b[0m \u001b[0mcustom_exception\u001b[0m\u001b[1;33m.\u001b[0m\u001b[0mTypeOfBankingIdNotSupported\u001b[0m\u001b[1;33m\u001b[0m\u001b[1;33m\u001b[0m\u001b[0m\n\u001b[0m\u001b[0;32m     85\u001b[0m         \u001b[0mself\u001b[0m\u001b[1;33m.\u001b[0m\u001b[0m_id_type\u001b[0m \u001b[1;33m=\u001b[0m \u001b[0mnew_id_type\u001b[0m\u001b[1;33m\u001b[0m\u001b[1;33m\u001b[0m\u001b[0m\n\u001b[0;32m     86\u001b[0m \u001b[1;33m\u001b[0m\u001b[0m\n",
      "\u001b[1;31mTypeOfBankingIdNotSupported\u001b[0m: The type of banking id informed is not supported."
     ]
    }
   ],
   "source": [
    "id_cleaner_obj.id_type='test'"
   ]
  },
  {
   "cell_type": "markdown",
   "id": "f8b59a64",
   "metadata": {},
   "source": [
    "## 3. Cleaning and Validating"
   ]
  },
  {
   "cell_type": "markdown",
   "id": "42f8d204",
   "metadata": {},
   "source": [
    "The library can also be used for cleaning and validation at the same time. In this case, it will return a list of values where list[0] indicates if the id is valid or not and list[1] returns the cleaner ID."
   ]
  },
  {
   "cell_type": "code",
   "execution_count": 13,
   "id": "d8aada62",
   "metadata": {},
   "outputs": [],
   "source": [
    "id_cleaner_obj.id_type='lei'"
   ]
  },
  {
   "cell_type": "code",
   "execution_count": 14,
   "id": "bb4af555",
   "metadata": {},
   "outputs": [
    {
     "data": {
      "text/plain": [
       "{'id_cleaned': '969500DPKGC9JE9F0820', 'id_validated': True}"
      ]
     },
     "execution_count": 14,
     "metadata": {},
     "output_type": "execute_result"
    }
   ],
   "source": [
    "# Cleaning a valid LEI code\n",
    "clean_lei = id_cleaner_obj.get_clean_id('969500DPKGC9JE9F0820')\n",
    "clean_lei"
   ]
  },
  {
   "cell_type": "markdown",
   "id": "0b76bead",
   "metadata": {},
   "source": [
    "By default, if the id is invalid get_clean_id() returns False"
   ]
  },
  {
   "cell_type": "code",
   "execution_count": 15,
   "id": "904b5524",
   "metadata": {},
   "outputs": [
    {
     "data": {
      "text/plain": [
       "{'id_cleaned': '96XX00DPKGC9JE9F0820', 'id_validated': False}"
      ]
     },
     "execution_count": 15,
     "metadata": {},
     "output_type": "execute_result"
    }
   ],
   "source": [
    "# Cleaning an invalid LEI code\n",
    "clean_lei = id_cleaner_obj.get_clean_id('96XX00DPKGC9JE9F0820')\n",
    "clean_lei"
   ]
  },
  {
   "cell_type": "markdown",
   "id": "74c4787a",
   "metadata": {},
   "source": [
    "If this behaviour is not required, set the parameter set_null_for_invalid=True"
   ]
  },
  {
   "cell_type": "code",
   "execution_count": 16,
   "id": "91da675f",
   "metadata": {},
   "outputs": [],
   "source": [
    "id_cleaner_obj.set_null_for_invalid_ids = True"
   ]
  },
  {
   "cell_type": "code",
   "execution_count": 17,
   "id": "7cb2f120",
   "metadata": {},
   "outputs": [
    {
     "data": {
      "text/plain": [
       "{'id_cleaned': nan, 'id_validated': False}"
      ]
     },
     "execution_count": 17,
     "metadata": {},
     "output_type": "execute_result"
    }
   ],
   "source": [
    "# Cleaning an invalid LEI code\n",
    "clean_lei = id_cleaner_obj.get_clean_id('96XX00DPKGC9JE9F0820')\n",
    "clean_lei"
   ]
  },
  {
   "cell_type": "markdown",
   "id": "537156ec",
   "metadata": {},
   "source": [
    "## 4. Cleaning a dataframe"
   ]
  },
  {
   "cell_type": "code",
   "execution_count": 18,
   "id": "b2462636",
   "metadata": {},
   "outputs": [],
   "source": [
    "import pandas as pd"
   ]
  },
  {
   "cell_type": "code",
   "execution_count": 19,
   "id": "a8a7ee30",
   "metadata": {},
   "outputs": [],
   "source": [
    "input_filename = '../../tests/data/test_cleaner_ids.csv'"
   ]
  },
  {
   "cell_type": "code",
   "execution_count": 20,
   "id": "8ae29d7c",
   "metadata": {},
   "outputs": [],
   "source": [
    "df_original = pd.read_csv(input_filename,sep=',',encoding='utf-8')"
   ]
  },
  {
   "cell_type": "code",
   "execution_count": 21,
   "id": "168b50ba",
   "metadata": {},
   "outputs": [
    {
     "data": {
      "text/html": [
       "<div>\n",
       "<style scoped>\n",
       "    .dataframe tbody tr th:only-of-type {\n",
       "        vertical-align: middle;\n",
       "    }\n",
       "\n",
       "    .dataframe tbody tr th {\n",
       "        vertical-align: top;\n",
       "    }\n",
       "\n",
       "    .dataframe thead th {\n",
       "        text-align: right;\n",
       "    }\n",
       "</style>\n",
       "<table border=\"1\" class=\"dataframe\">\n",
       "  <thead>\n",
       "    <tr style=\"text-align: right;\">\n",
       "      <th></th>\n",
       "      <th>ID</th>\n",
       "      <th>ID_TYPE</th>\n",
       "      <th>RESULT_VALIDATION</th>\n",
       "    </tr>\n",
       "  </thead>\n",
       "  <tbody>\n",
       "    <tr>\n",
       "      <th>0</th>\n",
       "      <td>SK1120005824</td>\n",
       "      <td>isin</td>\n",
       "      <td>True</td>\n",
       "    </tr>\n",
       "    <tr>\n",
       "      <th>1</th>\n",
       "      <td>097900BHK10000084115</td>\n",
       "      <td>lei</td>\n",
       "      <td>True</td>\n",
       "    </tr>\n",
       "    <tr>\n",
       "      <th>2</th>\n",
       "      <td>DE0005545503</td>\n",
       "      <td>isin</td>\n",
       "      <td>True</td>\n",
       "    </tr>\n",
       "    <tr>\n",
       "      <th>3</th>\n",
       "      <td>5299003VKVDCUPSS5X23</td>\n",
       "      <td>lei</td>\n",
       "      <td>True</td>\n",
       "    </tr>\n",
       "    <tr>\n",
       "      <th>4</th>\n",
       "      <td>254900B1P3S786KDAW57</td>\n",
       "      <td>lei</td>\n",
       "      <td>True</td>\n",
       "    </tr>\n",
       "    <tr>\n",
       "      <th>5</th>\n",
       "      <td>529900MVZ2YHFZV3K546</td>\n",
       "      <td>lei</td>\n",
       "      <td>True</td>\n",
       "    </tr>\n",
       "  </tbody>\n",
       "</table>\n",
       "</div>"
      ],
      "text/plain": [
       "                     ID ID_TYPE  RESULT_VALIDATION\n",
       "0          SK1120005824    isin               True\n",
       "1  097900BHK10000084115     lei               True\n",
       "2          DE0005545503    isin               True\n",
       "3  5299003VKVDCUPSS5X23     lei               True\n",
       "4  254900B1P3S786KDAW57     lei               True\n",
       "5  529900MVZ2YHFZV3K546     lei               True"
      ]
     },
     "execution_count": 21,
     "metadata": {},
     "output_type": "execute_result"
    }
   ],
   "source": [
    "df_original"
   ]
  },
  {
   "cell_type": "code",
   "execution_count": 22,
   "id": "e318a2ba",
   "metadata": {},
   "outputs": [],
   "source": [
    "# Set up the resultant letter case\n",
    "id_cleaner_obj.output_lettercase='upper'"
   ]
  },
  {
   "cell_type": "code",
   "execution_count": 23,
   "id": "75105a8c",
   "metadata": {},
   "outputs": [],
   "source": [
    "id_cleaner_obj.id_type='lei'"
   ]
  },
  {
   "cell_type": "code",
   "execution_count": 24,
   "id": "9887aa3f",
   "metadata": {},
   "outputs": [],
   "source": [
    "df_cleaner = id_cleaner_obj.apply_cleaner_to_df(df_original, 'ID', 'clean', 'valid')"
   ]
  },
  {
   "cell_type": "code",
   "execution_count": 25,
   "id": "402870b6",
   "metadata": {},
   "outputs": [
    {
     "data": {
      "text/html": [
       "<div>\n",
       "<style scoped>\n",
       "    .dataframe tbody tr th:only-of-type {\n",
       "        vertical-align: middle;\n",
       "    }\n",
       "\n",
       "    .dataframe tbody tr th {\n",
       "        vertical-align: top;\n",
       "    }\n",
       "\n",
       "    .dataframe thead th {\n",
       "        text-align: right;\n",
       "    }\n",
       "</style>\n",
       "<table border=\"1\" class=\"dataframe\">\n",
       "  <thead>\n",
       "    <tr style=\"text-align: right;\">\n",
       "      <th></th>\n",
       "      <th>ID</th>\n",
       "      <th>ID_TYPE</th>\n",
       "      <th>RESULT_VALIDATION</th>\n",
       "      <th>ID_clean</th>\n",
       "      <th>ID_valid</th>\n",
       "    </tr>\n",
       "  </thead>\n",
       "  <tbody>\n",
       "    <tr>\n",
       "      <th>0</th>\n",
       "      <td>SK1120005824</td>\n",
       "      <td>isin</td>\n",
       "      <td>True</td>\n",
       "      <td>NaN</td>\n",
       "      <td>False</td>\n",
       "    </tr>\n",
       "    <tr>\n",
       "      <th>1</th>\n",
       "      <td>097900BHK10000084115</td>\n",
       "      <td>lei</td>\n",
       "      <td>True</td>\n",
       "      <td>097900BHK10000084115</td>\n",
       "      <td>True</td>\n",
       "    </tr>\n",
       "    <tr>\n",
       "      <th>2</th>\n",
       "      <td>DE0005545503</td>\n",
       "      <td>isin</td>\n",
       "      <td>True</td>\n",
       "      <td>NaN</td>\n",
       "      <td>False</td>\n",
       "    </tr>\n",
       "    <tr>\n",
       "      <th>3</th>\n",
       "      <td>5299003VKVDCUPSS5X23</td>\n",
       "      <td>lei</td>\n",
       "      <td>True</td>\n",
       "      <td>5299003VKVDCUPSS5X23</td>\n",
       "      <td>True</td>\n",
       "    </tr>\n",
       "    <tr>\n",
       "      <th>4</th>\n",
       "      <td>254900B1P3S786KDAW57</td>\n",
       "      <td>lei</td>\n",
       "      <td>True</td>\n",
       "      <td>254900B1P3S786KDAW57</td>\n",
       "      <td>True</td>\n",
       "    </tr>\n",
       "    <tr>\n",
       "      <th>5</th>\n",
       "      <td>529900MVZ2YHFZV3K546</td>\n",
       "      <td>lei</td>\n",
       "      <td>True</td>\n",
       "      <td>529900MVZ2YHFZV3K546</td>\n",
       "      <td>True</td>\n",
       "    </tr>\n",
       "  </tbody>\n",
       "</table>\n",
       "</div>"
      ],
      "text/plain": [
       "                     ID ID_TYPE  RESULT_VALIDATION              ID_clean  \\\n",
       "0          SK1120005824    isin               True                   NaN   \n",
       "1  097900BHK10000084115     lei               True  097900BHK10000084115   \n",
       "2          DE0005545503    isin               True                   NaN   \n",
       "3  5299003VKVDCUPSS5X23     lei               True  5299003VKVDCUPSS5X23   \n",
       "4  254900B1P3S786KDAW57     lei               True  254900B1P3S786KDAW57   \n",
       "5  529900MVZ2YHFZV3K546     lei               True  529900MVZ2YHFZV3K546   \n",
       "\n",
       "   ID_valid  \n",
       "0     False  \n",
       "1      True  \n",
       "2     False  \n",
       "3      True  \n",
       "4      True  \n",
       "5      True  "
      ]
     },
     "execution_count": 25,
     "metadata": {},
     "output_type": "execute_result"
    }
   ],
   "source": [
    "df_cleaner"
   ]
  },
  {
   "cell_type": "code",
   "execution_count": 26,
   "id": "1b72669e",
   "metadata": {},
   "outputs": [],
   "source": [
    "# Not setting null for invalid ids\n",
    "id_cleaner_obj.set_null_for_invalid_ids = False"
   ]
  },
  {
   "cell_type": "code",
   "execution_count": 27,
   "id": "1fca99cf",
   "metadata": {},
   "outputs": [],
   "source": [
    "df_cleaner = id_cleaner_obj.apply_cleaner_to_df(df_original, 'ID', 'clean', 'valid')"
   ]
  },
  {
   "cell_type": "code",
   "execution_count": 28,
   "id": "5e644173",
   "metadata": {},
   "outputs": [
    {
     "data": {
      "text/html": [
       "<div>\n",
       "<style scoped>\n",
       "    .dataframe tbody tr th:only-of-type {\n",
       "        vertical-align: middle;\n",
       "    }\n",
       "\n",
       "    .dataframe tbody tr th {\n",
       "        vertical-align: top;\n",
       "    }\n",
       "\n",
       "    .dataframe thead th {\n",
       "        text-align: right;\n",
       "    }\n",
       "</style>\n",
       "<table border=\"1\" class=\"dataframe\">\n",
       "  <thead>\n",
       "    <tr style=\"text-align: right;\">\n",
       "      <th></th>\n",
       "      <th>ID</th>\n",
       "      <th>ID_TYPE</th>\n",
       "      <th>RESULT_VALIDATION</th>\n",
       "      <th>ID_clean</th>\n",
       "      <th>ID_valid</th>\n",
       "    </tr>\n",
       "  </thead>\n",
       "  <tbody>\n",
       "    <tr>\n",
       "      <th>0</th>\n",
       "      <td>SK1120005824</td>\n",
       "      <td>isin</td>\n",
       "      <td>True</td>\n",
       "      <td>SK1120005824</td>\n",
       "      <td>False</td>\n",
       "    </tr>\n",
       "    <tr>\n",
       "      <th>1</th>\n",
       "      <td>097900BHK10000084115</td>\n",
       "      <td>lei</td>\n",
       "      <td>True</td>\n",
       "      <td>097900BHK10000084115</td>\n",
       "      <td>True</td>\n",
       "    </tr>\n",
       "    <tr>\n",
       "      <th>2</th>\n",
       "      <td>DE0005545503</td>\n",
       "      <td>isin</td>\n",
       "      <td>True</td>\n",
       "      <td>DE0005545503</td>\n",
       "      <td>False</td>\n",
       "    </tr>\n",
       "    <tr>\n",
       "      <th>3</th>\n",
       "      <td>5299003VKVDCUPSS5X23</td>\n",
       "      <td>lei</td>\n",
       "      <td>True</td>\n",
       "      <td>5299003VKVDCUPSS5X23</td>\n",
       "      <td>True</td>\n",
       "    </tr>\n",
       "    <tr>\n",
       "      <th>4</th>\n",
       "      <td>254900B1P3S786KDAW57</td>\n",
       "      <td>lei</td>\n",
       "      <td>True</td>\n",
       "      <td>254900B1P3S786KDAW57</td>\n",
       "      <td>True</td>\n",
       "    </tr>\n",
       "    <tr>\n",
       "      <th>5</th>\n",
       "      <td>529900MVZ2YHFZV3K546</td>\n",
       "      <td>lei</td>\n",
       "      <td>True</td>\n",
       "      <td>529900MVZ2YHFZV3K546</td>\n",
       "      <td>True</td>\n",
       "    </tr>\n",
       "  </tbody>\n",
       "</table>\n",
       "</div>"
      ],
      "text/plain": [
       "                     ID ID_TYPE  RESULT_VALIDATION              ID_clean  \\\n",
       "0          SK1120005824    isin               True          SK1120005824   \n",
       "1  097900BHK10000084115     lei               True  097900BHK10000084115   \n",
       "2          DE0005545503    isin               True          DE0005545503   \n",
       "3  5299003VKVDCUPSS5X23     lei               True  5299003VKVDCUPSS5X23   \n",
       "4  254900B1P3S786KDAW57     lei               True  254900B1P3S786KDAW57   \n",
       "5  529900MVZ2YHFZV3K546     lei               True  529900MVZ2YHFZV3K546   \n",
       "\n",
       "   ID_valid  \n",
       "0     False  \n",
       "1      True  \n",
       "2     False  \n",
       "3      True  \n",
       "4      True  \n",
       "5      True  "
      ]
     },
     "execution_count": 28,
     "metadata": {},
     "output_type": "execute_result"
    }
   ],
   "source": [
    "df_cleaner"
   ]
  },
  {
   "cell_type": "markdown",
   "id": "d2922e04",
   "metadata": {},
   "source": [
    "## 5. Cleaning a csv file with AutoCleaner"
   ]
  },
  {
   "cell_type": "code",
   "execution_count": 29,
   "id": "e2b09ab2",
   "metadata": {},
   "outputs": [],
   "source": [
    "# Import the module for normalizing country information\n",
    "from financial_entity_cleaner.auto_cleaner import auto_cleaner"
   ]
  },
  {
   "cell_type": "code",
   "execution_count": 30,
   "id": "6e6d463b",
   "metadata": {},
   "outputs": [
    {
     "name": "stdout",
     "output_type": "stream",
     "text": [
      "C:\\Users\\Patrycia\\OneDrive\\Projects\\GitHub\\os_climate\\financial-entity-cleaner\\financial_entity_cleaner\\auto_cleaner\\logs\n"
     ]
    }
   ],
   "source": [
    "# Create an AutoCleaner object\n",
    "auto_cleaner_obj=auto_cleaner.AutoCleaner()"
   ]
  },
  {
   "cell_type": "code",
   "execution_count": 31,
   "id": "175383d2",
   "metadata": {},
   "outputs": [],
   "source": [
    "input_filename = '../../tests/data/test_cleaner_ids.csv'"
   ]
  },
  {
   "cell_type": "code",
   "execution_count": 32,
   "id": "c4d594ca",
   "metadata": {},
   "outputs": [],
   "source": [
    "setup_cleaning_filename = '../../tests/data/test_cleaner_ids.json'"
   ]
  },
  {
   "cell_type": "code",
   "execution_count": 33,
   "id": "c60ace85",
   "metadata": {},
   "outputs": [],
   "source": [
    "output_filename = '../../tests/data/test_cleaner_ids_result.csv'"
   ]
  },
  {
   "cell_type": "code",
   "execution_count": 35,
   "id": "3b5a01dc",
   "metadata": {},
   "outputs": [
    {
     "data": {
      "text/plain": [
       "True"
      ]
     },
     "execution_count": 35,
     "metadata": {},
     "output_type": "execute_result"
    }
   ],
   "source": [
    "auto_cleaner_obj.clean_csv_file(input_filename, setup_cleaning_filename, output_filename)"
   ]
  },
  {
   "cell_type": "code",
   "execution_count": null,
   "id": "99656a21",
   "metadata": {},
   "outputs": [],
   "source": []
  }
 ],
 "metadata": {
  "kernelspec": {
   "display_name": "Python 3",
   "language": "python",
   "name": "python3"
  },
  "language_info": {
   "codemirror_mode": {
    "name": "ipython",
    "version": 3
   },
   "file_extension": ".py",
   "mimetype": "text/x-python",
   "name": "python",
   "nbconvert_exporter": "python",
   "pygments_lexer": "ipython3",
   "version": "3.9.5"
  }
 },
 "nbformat": 4,
 "nbformat_minor": 5
}
